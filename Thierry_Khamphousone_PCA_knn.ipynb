{
 "cells": [
  {
   "cell_type": "markdown",
   "metadata": {},
   "source": [
    "# Ingénierie des données - Analyse en composantes principales\n",
    "## Thierry Khamphousone - 03/12/2020"
   ]
  },
  {
   "cell_type": "markdown",
   "metadata": {},
   "source": [
    "### Analyse de la base de données"
   ]
  },
  {
   "cell_type": "markdown",
   "metadata": {},
   "source": [
    "#### 1) Charger la base de données digits disponible dans sklearn"
   ]
  },
  {
   "cell_type": "code",
   "execution_count": 1,
   "metadata": {},
   "outputs": [],
   "source": [
    "import numpy as np\n",
    "from sklearn.datasets import load_digits\n",
    "digits = load_digits()"
   ]
  },
  {
   "cell_type": "code",
   "execution_count": 2,
   "metadata": {},
   "outputs": [
    {
     "data": {
      "text/plain": [
       "{'data': array([[ 0.,  0.,  5., ...,  0.,  0.,  0.],\n",
       "        [ 0.,  0.,  0., ..., 10.,  0.,  0.],\n",
       "        [ 0.,  0.,  0., ..., 16.,  9.,  0.],\n",
       "        ...,\n",
       "        [ 0.,  0.,  1., ...,  6.,  0.,  0.],\n",
       "        [ 0.,  0.,  2., ..., 12.,  0.,  0.],\n",
       "        [ 0.,  0., 10., ..., 12.,  1.,  0.]]),\n",
       " 'target': array([0, 1, 2, ..., 8, 9, 8]),\n",
       " 'frame': None,\n",
       " 'feature_names': ['pixel_0_0',\n",
       "  'pixel_0_1',\n",
       "  'pixel_0_2',\n",
       "  'pixel_0_3',\n",
       "  'pixel_0_4',\n",
       "  'pixel_0_5',\n",
       "  'pixel_0_6',\n",
       "  'pixel_0_7',\n",
       "  'pixel_1_0',\n",
       "  'pixel_1_1',\n",
       "  'pixel_1_2',\n",
       "  'pixel_1_3',\n",
       "  'pixel_1_4',\n",
       "  'pixel_1_5',\n",
       "  'pixel_1_6',\n",
       "  'pixel_1_7',\n",
       "  'pixel_2_0',\n",
       "  'pixel_2_1',\n",
       "  'pixel_2_2',\n",
       "  'pixel_2_3',\n",
       "  'pixel_2_4',\n",
       "  'pixel_2_5',\n",
       "  'pixel_2_6',\n",
       "  'pixel_2_7',\n",
       "  'pixel_3_0',\n",
       "  'pixel_3_1',\n",
       "  'pixel_3_2',\n",
       "  'pixel_3_3',\n",
       "  'pixel_3_4',\n",
       "  'pixel_3_5',\n",
       "  'pixel_3_6',\n",
       "  'pixel_3_7',\n",
       "  'pixel_4_0',\n",
       "  'pixel_4_1',\n",
       "  'pixel_4_2',\n",
       "  'pixel_4_3',\n",
       "  'pixel_4_4',\n",
       "  'pixel_4_5',\n",
       "  'pixel_4_6',\n",
       "  'pixel_4_7',\n",
       "  'pixel_5_0',\n",
       "  'pixel_5_1',\n",
       "  'pixel_5_2',\n",
       "  'pixel_5_3',\n",
       "  'pixel_5_4',\n",
       "  'pixel_5_5',\n",
       "  'pixel_5_6',\n",
       "  'pixel_5_7',\n",
       "  'pixel_6_0',\n",
       "  'pixel_6_1',\n",
       "  'pixel_6_2',\n",
       "  'pixel_6_3',\n",
       "  'pixel_6_4',\n",
       "  'pixel_6_5',\n",
       "  'pixel_6_6',\n",
       "  'pixel_6_7',\n",
       "  'pixel_7_0',\n",
       "  'pixel_7_1',\n",
       "  'pixel_7_2',\n",
       "  'pixel_7_3',\n",
       "  'pixel_7_4',\n",
       "  'pixel_7_5',\n",
       "  'pixel_7_6',\n",
       "  'pixel_7_7'],\n",
       " 'target_names': array([0, 1, 2, 3, 4, 5, 6, 7, 8, 9]),\n",
       " 'images': array([[[ 0.,  0.,  5., ...,  1.,  0.,  0.],\n",
       "         [ 0.,  0., 13., ..., 15.,  5.,  0.],\n",
       "         [ 0.,  3., 15., ..., 11.,  8.,  0.],\n",
       "         ...,\n",
       "         [ 0.,  4., 11., ..., 12.,  7.,  0.],\n",
       "         [ 0.,  2., 14., ..., 12.,  0.,  0.],\n",
       "         [ 0.,  0.,  6., ...,  0.,  0.,  0.]],\n",
       " \n",
       "        [[ 0.,  0.,  0., ...,  5.,  0.,  0.],\n",
       "         [ 0.,  0.,  0., ...,  9.,  0.,  0.],\n",
       "         [ 0.,  0.,  3., ...,  6.,  0.,  0.],\n",
       "         ...,\n",
       "         [ 0.,  0.,  1., ...,  6.,  0.,  0.],\n",
       "         [ 0.,  0.,  1., ...,  6.,  0.,  0.],\n",
       "         [ 0.,  0.,  0., ..., 10.,  0.,  0.]],\n",
       " \n",
       "        [[ 0.,  0.,  0., ..., 12.,  0.,  0.],\n",
       "         [ 0.,  0.,  3., ..., 14.,  0.,  0.],\n",
       "         [ 0.,  0.,  8., ..., 16.,  0.,  0.],\n",
       "         ...,\n",
       "         [ 0.,  9., 16., ...,  0.,  0.,  0.],\n",
       "         [ 0.,  3., 13., ..., 11.,  5.,  0.],\n",
       "         [ 0.,  0.,  0., ..., 16.,  9.,  0.]],\n",
       " \n",
       "        ...,\n",
       " \n",
       "        [[ 0.,  0.,  1., ...,  1.,  0.,  0.],\n",
       "         [ 0.,  0., 13., ...,  2.,  1.,  0.],\n",
       "         [ 0.,  0., 16., ..., 16.,  5.,  0.],\n",
       "         ...,\n",
       "         [ 0.,  0., 16., ..., 15.,  0.,  0.],\n",
       "         [ 0.,  0., 15., ..., 16.,  0.,  0.],\n",
       "         [ 0.,  0.,  2., ...,  6.,  0.,  0.]],\n",
       " \n",
       "        [[ 0.,  0.,  2., ...,  0.,  0.,  0.],\n",
       "         [ 0.,  0., 14., ..., 15.,  1.,  0.],\n",
       "         [ 0.,  4., 16., ..., 16.,  7.,  0.],\n",
       "         ...,\n",
       "         [ 0.,  0.,  0., ..., 16.,  2.,  0.],\n",
       "         [ 0.,  0.,  4., ..., 16.,  2.,  0.],\n",
       "         [ 0.,  0.,  5., ..., 12.,  0.,  0.]],\n",
       " \n",
       "        [[ 0.,  0., 10., ...,  1.,  0.,  0.],\n",
       "         [ 0.,  2., 16., ...,  1.,  0.,  0.],\n",
       "         [ 0.,  0., 15., ..., 15.,  0.,  0.],\n",
       "         ...,\n",
       "         [ 0.,  4., 16., ..., 16.,  6.,  0.],\n",
       "         [ 0.,  8., 16., ..., 16.,  8.,  0.],\n",
       "         [ 0.,  1.,  8., ..., 12.,  1.,  0.]]]),\n",
       " 'DESCR': \".. _digits_dataset:\\n\\nOptical recognition of handwritten digits dataset\\n--------------------------------------------------\\n\\n**Data Set Characteristics:**\\n\\n    :Number of Instances: 5620\\n    :Number of Attributes: 64\\n    :Attribute Information: 8x8 image of integer pixels in the range 0..16.\\n    :Missing Attribute Values: None\\n    :Creator: E. Alpaydin (alpaydin '@' boun.edu.tr)\\n    :Date: July; 1998\\n\\nThis is a copy of the test set of the UCI ML hand-written digits datasets\\nhttps://archive.ics.uci.edu/ml/datasets/Optical+Recognition+of+Handwritten+Digits\\n\\nThe data set contains images of hand-written digits: 10 classes where\\neach class refers to a digit.\\n\\nPreprocessing programs made available by NIST were used to extract\\nnormalized bitmaps of handwritten digits from a preprinted form. From a\\ntotal of 43 people, 30 contributed to the training set and different 13\\nto the test set. 32x32 bitmaps are divided into nonoverlapping blocks of\\n4x4 and the number of on pixels are counted in each block. This generates\\nan input matrix of 8x8 where each element is an integer in the range\\n0..16. This reduces dimensionality and gives invariance to small\\ndistortions.\\n\\nFor info on NIST preprocessing routines, see M. D. Garris, J. L. Blue, G.\\nT. Candela, D. L. Dimmick, J. Geist, P. J. Grother, S. A. Janet, and C.\\nL. Wilson, NIST Form-Based Handprint Recognition System, NISTIR 5469,\\n1994.\\n\\n.. topic:: References\\n\\n  - C. Kaynak (1995) Methods of Combining Multiple Classifiers and Their\\n    Applications to Handwritten Digit Recognition, MSc Thesis, Institute of\\n    Graduate Studies in Science and Engineering, Bogazici University.\\n  - E. Alpaydin, C. Kaynak (1998) Cascading Classifiers, Kybernetika.\\n  - Ken Tang and Ponnuthurai N. Suganthan and Xi Yao and A. Kai Qin.\\n    Linear dimensionalityreduction using relevance weighted LDA. School of\\n    Electrical and Electronic Engineering Nanyang Technological University.\\n    2005.\\n  - Claudio Gentile. A New Approximate Maximal Margin Classification\\n    Algorithm. NIPS. 2000.\"}"
      ]
     },
     "execution_count": 2,
     "metadata": {},
     "output_type": "execute_result"
    }
   ],
   "source": [
    "digits"
   ]
  },
  {
   "cell_type": "code",
   "execution_count": 3,
   "metadata": {
    "scrolled": true
   },
   "outputs": [
    {
     "name": "stdout",
     "output_type": "stream",
     "text": [
      "[[ 0.  0.  5. 13.  9.  1.  0.  0.]\n",
      " [ 0.  0. 13. 15. 10. 15.  5.  0.]\n",
      " [ 0.  3. 15.  2.  0. 11.  8.  0.]\n",
      " [ 0.  4. 12.  0.  0.  8.  8.  0.]\n",
      " [ 0.  5.  8.  0.  0.  9.  8.  0.]\n",
      " [ 0.  4. 11.  0.  1. 12.  7.  0.]\n",
      " [ 0.  2. 14.  5. 10. 12.  0.  0.]\n",
      " [ 0.  0.  6. 13. 10.  0.  0.  0.]]\n"
     ]
    }
   ],
   "source": [
    "print(digits.images[0])"
   ]
  },
  {
   "cell_type": "code",
   "execution_count": 4,
   "metadata": {
    "scrolled": false
   },
   "outputs": [
    {
     "data": {
      "text/plain": [
       "array([[ 0.,  0.,  5., ...,  0.,  0.,  0.],\n",
       "       [ 0.,  0.,  0., ..., 10.,  0.,  0.],\n",
       "       [ 0.,  0.,  0., ..., 16.,  9.,  0.],\n",
       "       ...,\n",
       "       [ 0.,  0.,  1., ...,  6.,  0.,  0.],\n",
       "       [ 0.,  0.,  2., ..., 12.,  0.,  0.],\n",
       "       [ 0.,  0., 10., ..., 12.,  1.,  0.]])"
      ]
     },
     "execution_count": 4,
     "metadata": {},
     "output_type": "execute_result"
    }
   ],
   "source": [
    "digits.data"
   ]
  },
  {
   "cell_type": "code",
   "execution_count": 5,
   "metadata": {},
   "outputs": [
    {
     "name": "stdout",
     "output_type": "stream",
     "text": [
      "(1797, 8, 8)\n"
     ]
    }
   ],
   "source": [
    "#nombre d'exemple total, image 8x8 (64 features)\n",
    "print(digits.images.shape)"
   ]
  },
  {
   "cell_type": "code",
   "execution_count": 6,
   "metadata": {
    "scrolled": true
   },
   "outputs": [
    {
     "name": "stdout",
     "output_type": "stream",
     "text": [
      "[0 1 2 3 4 5 6 7 8 9]\n"
     ]
    }
   ],
   "source": [
    "#classes\n",
    "print(digits.target_names)"
   ]
  },
  {
   "cell_type": "code",
   "execution_count": 7,
   "metadata": {},
   "outputs": [
    {
     "name": "stdout",
     "output_type": "stream",
     "text": [
      "[178, 182, 177, 183, 181, 182, 181, 179, 174, 180]\n"
     ]
    }
   ],
   "source": [
    "#nombre d'exemple par classes\n",
    "nb_exemples_classes = [0, 0, 0, 0, 0, 0, 0, 0, 0, 0]\n",
    "for i in range(len(digits.target)):\n",
    "    nb_exemples_classes[digits.target[i]]+=1\n",
    "print(nb_exemples_classes)"
   ]
  },
  {
   "cell_type": "markdown",
   "metadata": {},
   "source": [
    "__Dimension des données:__ 64 car une image comporte 8x8 pixels. (64 est donc le nombre de features pour une image)\n",
    "\n",
    "__Nombre d'exemples total:__ 1797\n",
    "\n",
    "__Nombre de classes:__ 10 \n",
    "\n",
    "__Nombre d'exemple par classes:__ environ 180 par classes, (178 pour la première classe, 182 pour la deuxieme, ..., 180 pour la dixième classe) "
   ]
  },
  {
   "cell_type": "code",
   "execution_count": 8,
   "metadata": {},
   "outputs": [],
   "source": [
    "import matplotlib.pyplot as plt"
   ]
  },
  {
   "cell_type": "code",
   "execution_count": 9,
   "metadata": {},
   "outputs": [
    {
     "data": {
      "text/plain": [
       "<Figure size 432x288 with 0 Axes>"
      ]
     },
     "metadata": {},
     "output_type": "display_data"
    },
    {
     "data": {
      "image/png": "[encoded data removed]",
      "text/plain": [
       "<Figure size 288x288 with 1 Axes>"
      ]
     },
     "metadata": {
      "needs_background": "light"
     },
     "output_type": "display_data"
    },
    {
     "data": {
      "image/png": "[encoded data removed]",
      "text/plain": [
       "<Figure size 288x288 with 1 Axes>"
      ]
     },
     "metadata": {
      "needs_background": "light"
     },
     "output_type": "display_data"
    },
    {
     "data": {
      "image/png": "[encoded data removed]",
      "text/plain": [
       "<Figure size 288x288 with 1 Axes>"
      ]
     },
     "metadata": {
      "needs_background": "light"
     },
     "output_type": "display_data"
    },
    {
     "data": {
      "image/png": "[encoded data removed]",
      "text/plain": [
       "<Figure size 288x288 with 1 Axes>"
      ]
     },
     "metadata": {
      "needs_background": "light"
     },
     "output_type": "display_data"
    },
    {
     "data": {
      "image/png": "[encoded data removed]",
      "text/plain": [
       "<Figure size 288x288 with 1 Axes>"
      ]
     },
     "metadata": {
      "needs_background": "light"
     },
     "output_type": "display_data"
    },
    {
     "data": {
      "image/png": "[encoded data removed]",
      "text/plain": [
       "<Figure size 288x288 with 1 Axes>"
      ]
     },
     "metadata": {
      "needs_background": "light"
     },
     "output_type": "display_data"
    },
    {
     "data": {
      "image/png": "[encoded data removed]",
      "text/plain": [
       "<Figure size 288x288 with 1 Axes>"
      ]
     },
     "metadata": {
      "needs_background": "light"
     },
     "output_type": "display_data"
    },
    {
     "data": {
      "image/png": "[encoded data removed]",
      "text/plain": [
       "<Figure size 288x288 with 1 Axes>"
      ]
     },
     "metadata": {
      "needs_background": "light"
     },
     "output_type": "display_data"
    },
    {
     "data": {
      "image/png": "[encoded data removed]",
      "text/plain": [
       "<Figure size 288x288 with 1 Axes>"
      ]
     },
     "metadata": {
      "needs_background": "light"
     },
     "output_type": "display_data"
    },
    {
     "data": {
      "image/png": "[encoded data removed]",
      "text/plain": [
       "<Figure size 288x288 with 1 Axes>"
      ]
     },
     "metadata": {
      "needs_background": "light"
     },
     "output_type": "display_data"
    }
   ],
   "source": [
    "plt.gray()\n",
    "for i in range(10):\n",
    "    plt.matshow(digits.images[i])\n",
    "plt.show()"
   ]
  },
  {
   "cell_type": "markdown",
   "metadata": {},
   "source": [
    "#### 2) Séparer la base initiale en deux: apprentissage (70%) et test (30%)\n",
    "#### Utiliser l’algorithme du plus-proche-voisin pour classer les exemples de la base de test."
   ]
  },
  {
   "cell_type": "code",
   "execution_count": 10,
   "metadata": {},
   "outputs": [],
   "source": [
    "from sklearn.model_selection import train_test_split\n",
    "from sklearn.neighbors import KNeighborsClassifier"
   ]
  },
  {
   "cell_type": "code",
   "execution_count": 11,
   "metadata": {},
   "outputs": [
    {
     "name": "stdout",
     "output_type": "stream",
     "text": [
      "0.987037037037037\n",
      "0.9796296296296296\n",
      "0.9888888888888889\n",
      "0.9888888888888889\n",
      "0.9925925925925926\n"
     ]
    }
   ],
   "source": [
    "for i in range(5):\n",
    "    X_train, X_test, y_train, y_test = train_test_split(digits.data, digits.target, train_size=0.7)\n",
    "    knn = KNeighborsClassifier(n_neighbors=1)\n",
    "    knn.fit(X_train, y_train)\n",
    "    print(knn.score(X_test, y_test))"
   ]
  },
  {
   "cell_type": "markdown",
   "metadata": {},
   "source": [
    "En répétant plusieurs fois la procédure de partition-classification avec un random seed non défini, on obtient toujours un score de prédiction de 99% sur la base de test. \n",
    "\n",
    "On en déduit que quelque soit la base d'entrainement utilisé pour entrainer le modèle, l'algorithme knn avec k=1 produit toujours un score environ égale à 99% de précision."
   ]
  },
  {
   "cell_type": "markdown",
   "metadata": {},
   "source": [
    "### Analyse en composantes principales"
   ]
  },
  {
   "cell_type": "markdown",
   "metadata": {},
   "source": [
    "#### 1) Utiliser le solveur PCA de sklearn pour réaliser la PCA"
   ]
  },
  {
   "cell_type": "code",
   "execution_count": 12,
   "metadata": {},
   "outputs": [],
   "source": [
    "from sklearn.decomposition import PCA\n",
    "from sklearn.preprocessing import StandardScaler\n",
    "import matplotlib.pyplot as plt\n",
    "import seaborn as sns\n",
    "import pandas as pd\n",
    "sns.set()"
   ]
  },
  {
   "cell_type": "code",
   "execution_count": 13,
   "metadata": {
    "scrolled": false
   },
   "outputs": [
    {
     "name": "stdout",
     "output_type": "stream",
     "text": [
      "\n",
      "explained variance (valeurs propres):\n",
      " [1.852725e+02 1.627724e+02 1.353541e+02 9.729660e+01 6.917800e+01\n",
      " 5.893600e+01 5.419500e+01 4.394150e+01 3.943550e+01 3.631630e+01\n",
      " 2.973950e+01 2.650140e+01 2.206760e+01 2.121620e+01 1.750190e+01\n",
      " 1.712510e+01 1.564290e+01 1.427410e+01 1.251600e+01 1.065780e+01\n",
      " 1.046980e+01 9.716200e+00 9.405900e+00 8.663900e+00 7.987300e+00\n",
      " 7.279500e+00 6.816500e+00 5.927100e+00 5.711400e+00 5.040600e+00\n",
      " 4.367900e+00 4.172600e+00 3.983400e+00 3.840100e+00 3.580300e+00\n",
      " 3.356800e+00 3.030700e+00 2.712400e+00 2.593000e+00 2.428700e+00\n",
      " 2.210900e+00 1.807800e+00 1.769900e+00 1.669000e+00 1.411500e+00\n",
      " 1.256400e+00 1.159500e+00 8.775000e-01 6.862000e-01 4.462000e-01\n",
      " 2.286000e-01 1.021000e-01 4.480000e-02 4.020000e-02 2.270000e-02\n",
      " 8.800000e-03 6.800000e-03 4.600000e-03 9.000000e-04 5.000000e-04\n",
      " 0.000000e+00 0.000000e+00 0.000000e+00 0.000000e+00]\n"
     ]
    }
   ],
   "source": [
    "#matrice de covariance avec 64 features \n",
    "pca_cov = PCA(n_components=64)\n",
    "\n",
    "#ratio inertie expliquée (%)\n",
    "pca_cov.fit(X_train)\n",
    "\n",
    "eigval = pca_cov.explained_variance_\n",
    "print(\"\\nexplained variance (valeurs propres):\\n\", np.round(eigval, decimals=4))"
   ]
  },
  {
   "cell_type": "code",
   "execution_count": 14,
   "metadata": {},
   "outputs": [
    {
     "data": {
      "text/plain": [
       "1194.7794719000347"
      ]
     },
     "execution_count": 14,
     "metadata": {},
     "output_type": "execute_result"
    }
   ],
   "source": [
    "total_eigval = np.max(np.cumsum(eigval)); total_eigval"
   ]
  },
  {
   "cell_type": "markdown",
   "metadata": {},
   "source": [
    "afin de connaitre le pourcentage d'inertie expliquée pour chaque axe, on divise chaque valeur propre par __total_eigval__. "
   ]
  },
  {
   "cell_type": "code",
   "execution_count": 15,
   "metadata": {},
   "outputs": [
    {
     "data": {
      "text/plain": [
       "array([1.55068358e-01, 1.36236322e-01, 1.13287951e-01, 8.14347521e-02,\n",
       "       5.79002561e-02, 4.93279471e-02, 4.53598362e-02, 3.67779226e-02,\n",
       "       3.30065394e-02, 3.03958122e-02, 2.48912199e-02, 2.21810268e-02,\n",
       "       1.84700103e-02, 1.77574276e-02, 1.46486656e-02, 1.43333114e-02,\n",
       "       1.30927495e-02, 1.19470237e-02, 1.04755457e-02, 8.92030503e-03,\n",
       "       8.76299684e-03, 8.13222709e-03, 7.87252802e-03, 7.25145997e-03,\n",
       "       6.68515355e-03, 6.09274928e-03, 5.70522356e-03, 4.96086106e-03,\n",
       "       4.78033068e-03, 4.21881476e-03, 3.65578212e-03, 3.49234464e-03,\n",
       "       3.33402482e-03, 3.21406989e-03, 2.99662111e-03, 2.80953123e-03,\n",
       "       2.53658847e-03, 2.27018354e-03, 2.17024653e-03, 2.03275292e-03,\n",
       "       1.85042862e-03, 1.51306215e-03, 1.48137562e-03, 1.39689370e-03,\n",
       "       1.18137003e-03, 1.05160246e-03, 9.70506478e-04, 7.34405839e-04,\n",
       "       5.74294150e-04, 3.73464387e-04, 1.91336581e-04, 8.54589717e-05,\n",
       "       3.74779545e-05, 3.36804940e-05, 1.90334759e-05, 7.37201378e-06,\n",
       "       5.69978879e-06, 3.85135195e-06, 7.51617578e-07, 4.31353270e-07,\n",
       "       3.09234622e-08, 6.58628013e-34, 6.58628013e-34, 6.30765402e-34])"
      ]
     },
     "execution_count": 15,
     "metadata": {},
     "output_type": "execute_result"
    }
   ],
   "source": [
    "inertie_expliquee_pourcent = eigval[:]/total_eigval; inertie_expliquee_pourcent"
   ]
  },
  {
   "cell_type": "markdown",
   "metadata": {},
   "source": [
    "On ne doit utiliser que la base d'apprentissage et pas toutes les données pour faire ce traitement car appliquer la PCA va transformer nos données en nous permettant de choisir les meilleures features qui expliquent une plus grande variance.\n",
    "\n",
    "La PCA a pour avantage de réduire le nombre de données à traiter en réduisant le nombre de features en entrée, permettant de réduire le nombre et le temps de calcul. \n",
    "\n",
    "Il est donc très avantageux d'utiliser la PCA sur une base d'entraînement et de calculer uniquement sur les principales features. Il est donc inutile de le faire sur une base de test étant donné que la base de test va nous permettre de tester notre modèle et non d'en faire des calculs."
   ]
  },
  {
   "cell_type": "markdown",
   "metadata": {},
   "source": [
    "#### 2) Tracer le graphe de l’inertie expliquée en fonction du rang de la valeur propre."
   ]
  },
  {
   "cell_type": "code",
   "execution_count": 16,
   "metadata": {
    "scrolled": true
   },
   "outputs": [
    {
     "data": {
      "image/png": "[encoded data removed]",
      "text/plain": [
       "<Figure size 432x288 with 1 Axes>"
      ]
     },
     "metadata": {},
     "output_type": "display_data"
    }
   ],
   "source": [
    "plt.ylabel('% Inertie Expliquée cumulée')\n",
    "plt.xlabel('Rang de la valeur propre')\n",
    "plt.title(\"Graphe de l'inertie expliquée en fonction du rang\")\n",
    "\n",
    "plt.plot(np.arange(1,65), eigval);"
   ]
  },
  {
   "cell_type": "markdown",
   "metadata": {},
   "source": [
    "#### Peut-on appliquer le critère de Catell pour déterminer le nombre optimal de composantes à conserver ?"
   ]
  },
  {
   "cell_type": "markdown",
   "metadata": {},
   "source": [
    "Non il n'est pas possible d'appliquer le critère de Catell afin de déterminer le nombre optimal de composantes à conserver car nous avons un trop grand nombre de features ici. (64 features)\n",
    "De plus, le coude de la courbe est très difficile à déterminer car la courbe est lisse.\n",
    "\n",
    "__Catell Scree__ est surtout utilisée pour des __problèmes de petites dimensions__ "
   ]
  },
  {
   "cell_type": "markdown",
   "metadata": {},
   "source": [
    "#### 3) Calculer l’inertie cumulée en considérant M axes (M < Dim)"
   ]
  },
  {
   "cell_type": "code",
   "execution_count": 17,
   "metadata": {},
   "outputs": [
    {
     "name": "stdout",
     "output_type": "stream",
     "text": [
      "Somme cumulée de l'inertie expliquée:\n",
      " [ 15.51  29.13  40.46  48.6   54.39  59.32  63.86  67.54  70.84  73.88\n",
      "  76.37  78.59  80.44  82.22  83.68  85.11  86.42  87.61  88.66  89.55\n",
      "  90.43  91.24  92.03  92.76  93.43  94.04  94.61  95.11  95.59  96.01\n",
      "  96.38  96.73  97.06  97.38  97.68  97.96  98.21  98.44  98.66  98.86\n",
      "  99.05  99.2   99.35  99.49  99.61  99.72  99.82  99.89  99.95  99.99\n",
      " 100.01 100.02 100.02 100.02 100.02 100.02 100.02 100.02 100.02 100.02\n",
      " 100.02 100.02 100.02 100.02]\n"
     ]
    }
   ],
   "source": [
    "#somme cumulée de la variance expliquée pour 64 features\n",
    "var=np.cumsum(np.round(pca_cov.explained_variance_ratio_, decimals=4)*100); print(\"Somme cumulée de l'inertie expliquée:\\n\",var)"
   ]
  },
  {
   "cell_type": "markdown",
   "metadata": {},
   "source": [
    "#### Tracer le graphe de l’inertie cumulée en fonction du rang de la valeur propre et appliquer le critère de Joliffe (à 90%, par exemple) pour déterminer le nombre optimal de composantes à conserver."
   ]
  },
  {
   "cell_type": "code",
   "execution_count": 18,
   "metadata": {},
   "outputs": [
    {
     "data": {
      "image/png": "[encoded data removed]",
      "text/plain": [
       "<Figure size 432x288 with 1 Axes>"
      ]
     },
     "metadata": {},
     "output_type": "display_data"
    }
   ],
   "source": [
    "plt.ylabel('Ratio Inertie Expliquée')\n",
    "plt.xlabel('Rang de la valeur propre')\n",
    "plt.title(\"Graphe de l'inertie expliquée en fonction du rang\")\n",
    "plt.hlines(90, 1, 65,colors='red', linestyles='solid')\n",
    "plt.vlines(20, 15, 100,colors='red', linestyles='solid')\n",
    "plt.plot(np.arange(1,65), var);"
   ]
  },
  {
   "cell_type": "markdown",
   "metadata": {},
   "source": [
    "En gardant __90% de l'inertie en traçant la ligne rouge__, on obtient __un rang de la valeur propre égal à 20__ qui représente le nombre __optimal de composantes à conserver__."
   ]
  },
  {
   "cell_type": "markdown",
   "metadata": {},
   "source": [
    "### Classification"
   ]
  },
  {
   "cell_type": "markdown",
   "metadata": {},
   "source": [
    "#### 1) Evaluer, pour les valeurs de M trouvées précédemment, le taux de reconnaissance obtenu par un classifieur 1-ppv lorsque les données (bases de référence et de test) sont codées par les M premières composantes principales. \n",
    "\n",
    "#### Pour ce faire, on projettera les données de l’espace initial dans l’espace de dimension à l’aide de la matrice de passage réduite PM avant d’appliquer l’algorithme de classification\n"
   ]
  },
  {
   "cell_type": "markdown",
   "metadata": {},
   "source": [
    "Déterminons d'abord le M premières composantes principales.\n",
    "Nous savons qu'il nous faut les 30 premières composantes (M=30). \n",
    "\n",
    "Les vecteurs propres représentent les axes principaux d'inerties."
   ]
  },
  {
   "cell_type": "code",
   "execution_count": 19,
   "metadata": {},
   "outputs": [
    {
     "name": "stdout",
     "output_type": "stream",
     "text": [
      "Exemple du 1er Vecteur Propre e1 de la Matrice P:\n",
      " [[-1.02504660e-19  1.62701657e-02  2.21840369e-01  1.38692070e-01\n",
      "   2.35058448e-02  9.20564484e-02  7.37538289e-03 -2.12199216e-03\n",
      "   1.66055857e-04  1.17150522e-01  2.46874821e-01 -1.44079657e-01\n",
      "   4.20857650e-02  2.15046555e-01  1.38101735e-02 -4.63200876e-03\n",
      "   7.45036005e-05  7.73873029e-02 -8.19895519e-02 -2.11195866e-01\n",
      "   1.66022881e-01  1.54944707e-01 -3.46501755e-02 -4.89785141e-03\n",
      "  -1.37072482e-04 -6.78352767e-02 -2.49248806e-01  4.16452172e-02\n",
      "   2.01955493e-01  2.18606445e-02 -5.89634473e-02 -7.44797651e-05\n",
      "  -0.00000000e+00 -1.65795875e-01 -3.66584338e-01 -1.58534667e-01\n",
      "  -9.24413810e-02 -4.75649766e-02 -2.44956709e-02 -0.00000000e+00\n",
      "  -1.48936618e-03 -1.08799032e-01 -2.93199035e-01 -2.47589861e-01\n",
      "  -2.25113852e-01 -1.15468622e-02  4.61530797e-02 -7.16598562e-04\n",
      "  -1.52362039e-04  7.40384596e-03  7.21689967e-02 -8.52480913e-02\n",
      "  -1.20668116e-01  1.51780365e-01  7.36747438e-02  4.24244536e-04\n",
      "  -1.40204223e-05  1.31557484e-02  2.33454845e-01  1.41622485e-01\n",
      "   1.82296676e-02  1.10552510e-01  4.21488747e-02  1.23111857e-02]]\n"
     ]
    }
   ],
   "source": [
    "print(\"Exemple du 1er Vecteur Propre e1 de la Matrice P:\\n\", pca_cov.components_[0:1])"
   ]
  },
  {
   "cell_type": "code",
   "execution_count": 20,
   "metadata": {},
   "outputs": [],
   "source": [
    "PM=pca_cov.components_[0:30]"
   ]
  },
  {
   "cell_type": "markdown",
   "metadata": {},
   "source": [
    "Afin de projeter les données de l'espace initial dans l'espace de dimension, il faut maintenant multiplier notre matrice initiale d'entrainement (taille 1257 et 64 features) contenant les données par la matrice PM (taille 30 et 64 features) qui contient les valeurs propres\n",
    "\n",
    "Maintenant que les données de base X_train et de test X_test sont codées par les M premières composantes principales,"
   ]
  },
  {
   "cell_type": "code",
   "execution_count": 21,
   "metadata": {
    "scrolled": true
   },
   "outputs": [],
   "source": [
    "#la transposée ici permet de multiplier la feature de X_train avec ses premieres composantes\n",
    "X_train_dim = X_train.dot(np.transpose(PM))\n",
    "X_test_dim = X_test.dot(np.transpose(PM))"
   ]
  },
  {
   "cell_type": "markdown",
   "metadata": {},
   "source": [
    "Appliquons l'algorithme de classification dessus."
   ]
  },
  {
   "cell_type": "code",
   "execution_count": 22,
   "metadata": {},
   "outputs": [
    {
     "name": "stdout",
     "output_type": "stream",
     "text": [
      "0.9925925925925926\n"
     ]
    }
   ],
   "source": [
    "knn_dim = KNeighborsClassifier(n_neighbors=1)\n",
    "knn_dim.fit(X_train_dim, y_train)\n",
    "print(knn_dim.score(X_test_dim, y_test))"
   ]
  },
  {
   "cell_type": "markdown",
   "metadata": {},
   "source": [
    "on obtient un score de prédiction de 98% sur la base de test en ayant effectué les calculs avec notre modèle sur 30 features au lieu de 64 features. \n",
    "\n",
    "Cela prouve donc bien qu'on a pu se débarasser de 34 features afin de diminuer le temps des calculs tout en conservant une bonne précision."
   ]
  },
  {
   "cell_type": "markdown",
   "metadata": {},
   "source": [
    "#### 2) Etendre l'analyse précédente en faisant varier M de 1 à Dim. "
   ]
  },
  {
   "cell_type": "code",
   "execution_count": 23,
   "metadata": {},
   "outputs": [
    {
     "name": "stdout",
     "output_type": "stream",
     "text": [
      "0.2833333333333333\n",
      "0.5611111111111111\n",
      "0.7111111111111111\n",
      "0.8203703703703704\n",
      "0.8833333333333333\n",
      "0.9203703703703704\n",
      "0.9555555555555556\n",
      "0.9648148148148148\n",
      "0.9740740740740741\n",
      "0.9777777777777777\n",
      "0.9888888888888889\n",
      "0.9888888888888889\n",
      "0.9888888888888889\n",
      "0.9851851851851852\n",
      "0.987037037037037\n",
      "0.9888888888888889\n",
      "0.9907407407407407\n",
      "0.9944444444444445\n",
      "0.9925925925925926\n",
      "0.9925925925925926\n",
      "0.9907407407407407\n",
      "0.9907407407407407\n",
      "0.9907407407407407\n",
      "0.9907407407407407\n",
      "0.9925925925925926\n",
      "0.9925925925925926\n",
      "0.9925925925925926\n",
      "0.9925925925925926\n",
      "0.9925925925925926\n",
      "0.9925925925925926\n"
     ]
    }
   ],
   "source": [
    "taux_reconnaissance = []\n",
    "for i in range (1, 31):\n",
    "    PM=pca_cov.components_[0:i]\n",
    "    X_train_dim = X_train.dot(np.transpose(PM))\n",
    "    X_test_dim = X_test.dot(np.transpose(PM))\n",
    "    \n",
    "    knn_dim = KNeighborsClassifier(n_neighbors=1)\n",
    "    knn_dim.fit(X_train_dim, y_train)\n",
    "    taux_reconnaissance.append(knn_dim.score(X_test_dim, y_test))\n",
    "    print(taux_reconnaissance[i-1])"
   ]
  },
  {
   "cell_type": "markdown",
   "metadata": {},
   "source": [
    "#### Tracer le graphe montrant la variation du taux de reconnaissance en fonction de M. Conclure"
   ]
  },
  {
   "cell_type": "code",
   "execution_count": 24,
   "metadata": {
    "scrolled": true
   },
   "outputs": [
    {
     "data": {
      "image/png": "[encoded data removed]",
      "text/plain": [
       "<Figure size 432x288 with 1 Axes>"
      ]
     },
     "metadata": {},
     "output_type": "display_data"
    }
   ],
   "source": [
    "plt.ylabel('Taux de reconnaissance')\n",
    "plt.xlabel('M premières composantes principales')\n",
    "plt.title(\"Graphe de la variation du taux de reconnaissance en fonction de M\")\n",
    "plt.plot(taux_reconnaissance);"
   ]
  },
  {
   "cell_type": "markdown",
   "metadata": {},
   "source": [
    "On observe qu'avec 1, 2, 3, 4 et 5 composantes principales, le modèle n'obtient pas un bon score de précision. \n",
    "Par contre le taux de reconnaissance commence à devenir bon dès 6 composantes principales."
   ]
  },
  {
   "cell_type": "markdown",
   "metadata": {},
   "source": [
    "## Compression"
   ]
  },
  {
   "cell_type": "markdown",
   "metadata": {},
   "source": [
    "#### 1) Compresser une image sur M composantes principales à l’aide de la matrice de passage réduite PM puis, reconstruire une image (de dimension Dim) à l’aide de ces M composantes principales. Conclure."
   ]
  },
  {
   "cell_type": "markdown",
   "metadata": {},
   "source": [
    "Travaillons sur l'image représentant __le chiffre 5__.\n",
    "\n",
    "Récupérons dans un premier temps, une base d'image de chiffre 5."
   ]
  },
  {
   "cell_type": "code",
   "execution_count": 25,
   "metadata": {},
   "outputs": [
    {
     "name": "stdout",
     "output_type": "stream",
     "text": [
      "[[ 0.  0. 12. 10.  0.  0.  0.  0.]\n",
      " [ 0.  0. 14. 16. 16. 14.  0.  0.]\n",
      " [ 0.  0. 13. 16. 15. 10.  1.  0.]\n",
      " [ 0.  0. 11. 16. 16.  7.  0.  0.]\n",
      " [ 0.  0.  0.  4.  7. 16.  7.  0.]\n",
      " [ 0.  0.  0.  0.  4. 16.  9.  0.]\n",
      " [ 0.  0.  5.  4. 12. 16.  4.  0.]\n",
      " [ 0.  0.  9. 16. 16. 10.  0.  0.]]\n",
      "[ 0.  0. 12. 10.  0.  0.  0.  0.  0.  0. 14. 16. 16. 14.  0.  0.  0.  0.\n",
      " 13. 16. 15. 10.  1.  0.  0.  0. 11. 16. 16.  7.  0.  0.  0.  0.  0.  4.\n",
      "  7. 16.  7.  0.  0.  0.  0.  0.  4. 16.  9.  0.  0.  0.  5.  4. 12. 16.\n",
      "  4.  0.  0.  0.  9. 16. 16. 10.  0.  0.]\n"
     ]
    }
   ],
   "source": [
    "image_5 = digits.images[5]; print(image_5) #choix du chiffre\n",
    "data_5 = digits.data[5]; print(data_5) #choix du chiffre"
   ]
  },
  {
   "cell_type": "code",
   "execution_count": 26,
   "metadata": {},
   "outputs": [
    {
     "data": {
      "text/plain": [
       "<Figure size 432x288 with 0 Axes>"
      ]
     },
     "metadata": {},
     "output_type": "display_data"
    },
    {
     "data": {
      "image/png": "[encoded data removed]",
      "text/plain": [
       "<Figure size 288x288 with 1 Axes>"
      ]
     },
     "metadata": {},
     "output_type": "display_data"
    }
   ],
   "source": [
    "plt.gray()\n",
    "plt.matshow(image_5)\n",
    "plt.show()"
   ]
  },
  {
   "cell_type": "markdown",
   "metadata": {},
   "source": [
    "Déterminons maintenant ses M composantes principales.\n",
    "Pour cela nous avons besoin de récupérer une base de données d'images 5."
   ]
  },
  {
   "cell_type": "code",
   "execution_count": 27,
   "metadata": {},
   "outputs": [
    {
     "data": {
      "text/plain": [
       "(8, 8)"
      ]
     },
     "execution_count": 27,
     "metadata": {},
     "output_type": "execute_result"
    }
   ],
   "source": [
    "image_5.shape"
   ]
  },
  {
   "cell_type": "code",
   "execution_count": 28,
   "metadata": {},
   "outputs": [
    {
     "data": {
      "text/plain": [
       "64"
      ]
     },
     "execution_count": 28,
     "metadata": {},
     "output_type": "execute_result"
    }
   ],
   "source": [
    "data_5.shape[0]"
   ]
  },
  {
   "cell_type": "code",
   "execution_count": 29,
   "metadata": {},
   "outputs": [
    {
     "data": {
      "text/plain": [
       "(182, 64)"
      ]
     },
     "execution_count": 29,
     "metadata": {},
     "output_type": "execute_result"
    }
   ],
   "source": [
    "X5 = []\n",
    "for i in range(len(digits.data)):\n",
    "    if digits.target[i] == 5: #choix du chiffre\n",
    "        X5.append(digits.data[i].tolist())\n",
    "\n",
    "X5 = np.array(X5); \n",
    "X5.shape"
   ]
  },
  {
   "cell_type": "markdown",
   "metadata": {},
   "source": [
    "on retrouve bien le nombre 182 qui correspond au nombre de 5 identifié dans la base de données au début du TP, et 64 est le nombre de features."
   ]
  },
  {
   "cell_type": "markdown",
   "metadata": {},
   "source": [
    "Calculons l'image moyenne de 5."
   ]
  },
  {
   "cell_type": "code",
   "execution_count": 30,
   "metadata": {},
   "outputs": [
    {
     "data": {
      "text/plain": [
       "array([[ 0.,  0., 12., ..., 10.,  0.,  0.],\n",
       "       [ 0.,  5., 12., ...,  0.,  0.,  0.],\n",
       "       [ 0.,  0., 12., ...,  0.,  0.,  0.],\n",
       "       ...,\n",
       "       [ 0.,  0., 12., ...,  4.,  0.,  0.],\n",
       "       [ 0.,  0.,  1., ...,  4.,  0.,  0.],\n",
       "       [ 0.,  0., 10., ...,  4.,  0.,  0.]])"
      ]
     },
     "execution_count": 30,
     "metadata": {},
     "output_type": "execute_result"
    }
   ],
   "source": [
    "X5"
   ]
  },
  {
   "cell_type": "code",
   "execution_count": 31,
   "metadata": {},
   "outputs": [],
   "source": [
    "X5_mean = [] #Image moyenne en 64 x 1\n",
    "for i in range(len(X5[0])):\n",
    "    X5_mean.append(np.mean(X5[:,i]))"
   ]
  },
  {
   "cell_type": "code",
   "execution_count": 32,
   "metadata": {},
   "outputs": [],
   "source": [
    "imageX5_mean = [] #Image moyenne en 8x8\n",
    "temp = []\n",
    "for i in range(1, len(X5_mean)):\n",
    "    temp.append(X5_mean[i])\n",
    "    if i%8 == 0:\n",
    "        imageX5_mean.append(temp[:])\n",
    "        temp = []\n",
    "        \n",
    "imageX5_mean = np.array(imageX5_mean)"
   ]
  },
  {
   "cell_type": "code",
   "execution_count": 33,
   "metadata": {},
   "outputs": [
    {
     "data": {
      "text/plain": [
       "<Figure size 432x288 with 0 Axes>"
      ]
     },
     "metadata": {},
     "output_type": "display_data"
    },
    {
     "data": {
      "image/png": "[encoded data removed]",
      "text/plain": [
       "<Figure size 329.143x288 with 1 Axes>"
      ]
     },
     "metadata": {},
     "output_type": "display_data"
    }
   ],
   "source": [
    "plt.gray()\n",
    "plt.matshow(imageX5_mean)\n",
    "plt.title('Image moyenne du chiffre 5')\n",
    "plt.show()"
   ]
  },
  {
   "cell_type": "code",
   "execution_count": 34,
   "metadata": {},
   "outputs": [],
   "source": [
    "#matrice de covariance avec 64 features \n",
    "data_5_pca_cov = PCA(n_components=X5.shape[1])\n",
    "\n",
    "#ratio inertie expliquée (%)\n",
    "data_5_pca_cov.fit(X5)\n",
    "\n",
    "eigval_5 = data_5_pca_cov.explained_variance_"
   ]
  },
  {
   "cell_type": "code",
   "execution_count": 35,
   "metadata": {},
   "outputs": [
    {
     "name": "stdout",
     "output_type": "stream",
     "text": [
      "Somme cumulée de l'inertie expliquée:\n",
      " [30.84 42.29 52.9  59.1  64.61 69.13 73.05 76.58 79.32 81.73 83.74 85.51\n",
      " 87.1  88.34 89.54 90.7  91.65 92.52 93.24 93.88 94.48 95.01 95.5  95.95\n",
      " 96.35 96.72 97.08 97.38 97.67 97.94 98.19 98.41 98.61 98.8  98.98 99.14\n",
      " 99.28 99.41 99.52 99.62 99.72 99.8  99.84 99.88 99.91 99.94 99.96 99.97\n",
      " 99.98 99.98 99.98 99.98 99.98 99.98 99.98 99.98 99.98 99.98 99.98 99.98\n",
      " 99.98 99.98 99.98 99.98]\n"
     ]
    }
   ],
   "source": [
    "var_5=np.cumsum(np.round(data_5_pca_cov.explained_variance_ratio_, decimals=4)*100); print(\"Somme cumulée de l'inertie expliquée:\\n\",var_5)"
   ]
  },
  {
   "cell_type": "code",
   "execution_count": 36,
   "metadata": {},
   "outputs": [
    {
     "data": {
      "image/png": "[encoded data removed]",
      "text/plain": [
       "<Figure size 432x288 with 1 Axes>"
      ]
     },
     "metadata": {},
     "output_type": "display_data"
    }
   ],
   "source": [
    "plt.ylabel('Ratio Inertie Expliquée')\n",
    "plt.xlabel('Rang de la valeur propre')\n",
    "plt.title(\"Graphe de l'inertie expliquée en fonction du rang\")\n",
    "plt.hlines(90, 1, 65,colors='red', linestyles='solid')\n",
    "plt.vlines(15, 30, 100,colors='red', linestyles='solid')\n",
    "plt.plot(np.arange(1,65), var_5);"
   ]
  },
  {
   "cell_type": "markdown",
   "metadata": {},
   "source": [
    "On lit sur le graphe de l'inertie expliquée en fonction du rang qu'il nous faut 15 composantes principales. "
   ]
  },
  {
   "cell_type": "code",
   "execution_count": 37,
   "metadata": {},
   "outputs": [
    {
     "data": {
      "text/plain": [
       "array([[-1.02504660e-19,  1.62701657e-02,  2.21840369e-01,\n",
       "         1.38692070e-01,  2.35058448e-02,  9.20564484e-02,\n",
       "         7.37538289e-03, -2.12199216e-03,  1.66055857e-04,\n",
       "         1.17150522e-01,  2.46874821e-01, -1.44079657e-01,\n",
       "         4.20857650e-02,  2.15046555e-01,  1.38101735e-02,\n",
       "        -4.63200876e-03,  7.45036005e-05,  7.73873029e-02,\n",
       "        -8.19895519e-02, -2.11195866e-01,  1.66022881e-01,\n",
       "         1.54944707e-01, -3.46501755e-02, -4.89785141e-03,\n",
       "        -1.37072482e-04, -6.78352767e-02, -2.49248806e-01,\n",
       "         4.16452172e-02,  2.01955493e-01,  2.18606445e-02,\n",
       "        -5.89634473e-02, -7.44797651e-05, -0.00000000e+00,\n",
       "        -1.65795875e-01, -3.66584338e-01, -1.58534667e-01,\n",
       "        -9.24413810e-02, -4.75649766e-02, -2.44956709e-02,\n",
       "        -0.00000000e+00, -1.48936618e-03, -1.08799032e-01,\n",
       "        -2.93199035e-01, -2.47589861e-01, -2.25113852e-01,\n",
       "        -1.15468622e-02,  4.61530797e-02, -7.16598562e-04,\n",
       "        -1.52362039e-04,  7.40384596e-03,  7.21689967e-02,\n",
       "        -8.52480913e-02, -1.20668116e-01,  1.51780365e-01,\n",
       "         7.36747438e-02,  4.24244536e-04, -1.40204223e-05,\n",
       "         1.31557484e-02,  2.33454845e-01,  1.41622485e-01,\n",
       "         1.82296676e-02,  1.10552510e-01,  4.21488747e-02,\n",
       "         1.23111857e-02],\n",
       "       [-3.21433847e-18, -1.17554335e-02, -5.50679672e-02,\n",
       "        -1.21592819e-02, -5.99547909e-02, -1.14688643e-01,\n",
       "        -5.37698554e-02, -6.72237732e-03, -1.61027085e-04,\n",
       "        -2.53578770e-02,  5.71478105e-02, -7.81275183e-03,\n",
       "        -1.03780919e-01, -5.93446586e-02, -4.76490462e-02,\n",
       "        -2.69795681e-03, -7.97570412e-05,  3.51955603e-02,\n",
       "         1.97992118e-01, -5.93179402e-02, -2.44716713e-01,\n",
       "        -1.61190857e-03,  3.12048783e-02, -1.26901672e-04,\n",
       "        -8.23976038e-05,  7.99150233e-02,  1.92320490e-01,\n",
       "        -1.44481409e-01, -2.66222144e-01,  7.45164432e-02,\n",
       "         7.79673951e-02,  3.73597625e-05,  0.00000000e+00,\n",
       "         9.91622224e-02,  9.65725962e-02, -2.73937562e-01,\n",
       "        -2.80913382e-01,  1.84932674e-01,  1.33539744e-01,\n",
       "         0.00000000e+00,  2.92303187e-04,  5.35470728e-02,\n",
       "         1.26782109e-01, -2.66160810e-01, -2.93114544e-01,\n",
       "         2.36892337e-01,  2.17704580e-01,  1.01130483e-03,\n",
       "        -1.39306121e-04,  5.81431735e-03,  1.41757933e-01,\n",
       "        -1.21703518e-01, -1.00223399e-01,  2.70917830e-01,\n",
       "         1.42040891e-01, -5.32573672e-04, -5.07083924e-05,\n",
       "        -1.10013361e-02, -7.70467809e-02,  1.19981688e-02,\n",
       "         1.71618932e-01,  1.61408078e-01,  1.33590258e-02,\n",
       "        -8.89345691e-03],\n",
       "       [ 7.02464482e-20,  1.74342457e-02,  1.17475862e-01,\n",
       "         1.30757632e-01, -1.41729763e-01, -2.74313086e-01,\n",
       "        -1.12432509e-01, -1.44864068e-02,  3.64984040e-04,\n",
       "         6.99214466e-02,  9.43801743e-02,  7.34020642e-02,\n",
       "        -8.81544884e-03, -2.87759513e-01, -1.57291897e-01,\n",
       "        -1.40737833e-02,  3.19948179e-04,  4.36967611e-02,\n",
       "         3.02303598e-02,  7.12649263e-02,  7.42113116e-02,\n",
       "        -3.15630104e-01, -1.45895830e-01, -6.41836031e-03,\n",
       "         8.55632405e-05, -3.40512497e-02, -4.00435453e-02,\n",
       "         6.10387688e-02, -2.69525780e-02, -3.58301280e-01,\n",
       "        -1.44660777e-01, -1.14287331e-04,  0.00000000e+00,\n",
       "        -4.80825912e-02, -9.36081400e-03,  1.39610415e-01,\n",
       "         7.92478067e-03, -2.57651804e-01, -9.52341433e-02,\n",
       "         0.00000000e+00, -4.05610247e-04, -1.91543295e-02,\n",
       "         1.37227355e-01,  1.67322811e-01, -9.46870323e-02,\n",
       "        -1.39864016e-01,  7.55477012e-02,  1.90750428e-03,\n",
       "        -6.12870968e-05,  1.89789546e-02,  2.36562615e-01,\n",
       "         1.71054832e-01, -6.24378414e-02,  7.95036817e-02,\n",
       "         2.24578549e-01,  1.93663059e-02, -2.32795175e-05,\n",
       "         1.73767087e-02,  1.13107080e-01,  1.00556015e-01,\n",
       "         1.35424491e-01,  2.24989039e-01,  1.54924055e-01,\n",
       "         3.32250597e-02],\n",
       "       [ 6.45811076e-19,  2.14759534e-02,  1.73305530e-01,\n",
       "         1.93838690e-01,  3.55138285e-02,  1.10240153e-01,\n",
       "         7.78695521e-02,  9.77004591e-03,  1.07918953e-04,\n",
       "         7.36544191e-02,  3.00353707e-01,  3.58535758e-02,\n",
       "        -1.59978531e-01,  2.44257868e-02,  4.62656890e-02,\n",
       "         2.74071866e-03,  1.58271452e-04,  1.20562875e-01,\n",
       "         2.09656720e-01, -2.89452461e-01, -2.76825650e-01,\n",
       "        -5.48570110e-02,  2.34907207e-02, -1.12796573e-03,\n",
       "         1.30603781e-04,  1.03866785e-01,  1.06375354e-01,\n",
       "        -2.15589718e-01, -2.14335920e-01, -7.46437513e-02,\n",
       "         5.25984604e-02, -5.25234699e-05, -0.00000000e+00,\n",
       "         5.06304912e-02,  9.17177343e-02,  8.57467586e-03,\n",
       "        -1.23720767e-01, -1.49781390e-01,  1.54396359e-02,\n",
       "        -0.00000000e+00, -6.03110161e-04,  6.18593592e-03,\n",
       "         2.83087606e-02,  4.47709470e-02, -3.13164659e-04,\n",
       "        -2.00322473e-01, -8.49404665e-02, -1.95997507e-03,\n",
       "        -5.43427384e-05,  1.04491459e-02,  8.43519665e-02,\n",
       "         1.17762717e-01, -1.95610547e-02, -2.45763131e-01,\n",
       "        -1.33895155e-01, -1.38725310e-02, -1.77549442e-05,\n",
       "         2.21512695e-02,  2.01280722e-01,  2.05848014e-01,\n",
       "        -2.36133149e-01, -3.08363659e-01, -8.95971154e-02,\n",
       "        -1.72571016e-02],\n",
       "       [ 1.28265591e-18,  1.24329211e-02,  8.11385889e-02,\n",
       "        -7.60117418e-02, -1.81823640e-02,  1.59605110e-01,\n",
       "         9.42790358e-02,  5.45749265e-03,  3.48549423e-04,\n",
       "         5.06525788e-02,  4.04366476e-02, -1.15287694e-02,\n",
       "        -1.34820986e-01, -2.25805311e-01,  3.57759884e-02,\n",
       "         1.02506377e-02,  2.54386359e-04,  1.05945187e-01,\n",
       "         1.95882213e-01,  1.14806195e-01, -1.33693698e-01,\n",
       "        -3.78374609e-01, -1.35933579e-02,  6.33502484e-03,\n",
       "         2.20186149e-04,  1.19191478e-01,  3.07136212e-01,\n",
       "         2.83136060e-01,  3.12262419e-02, -1.50668231e-01,\n",
       "        -8.50477139e-02,  1.73085840e-04,  0.00000000e+00,\n",
       "        -3.63620498e-02, -6.79731683e-02,  2.77912174e-02,\n",
       "         9.46146299e-02,  4.32711549e-02, -9.24126810e-02,\n",
       "         0.00000000e+00, -4.94411182e-04, -9.92619638e-02,\n",
       "        -4.17944171e-01, -2.31405668e-01,  9.38393412e-02,\n",
       "         1.05392986e-01, -2.59813475e-02, -1.60147459e-04,\n",
       "        -4.62110372e-04, -2.68271693e-02, -2.91938273e-01,\n",
       "        -1.97854947e-01,  1.18186130e-01,  5.02213280e-02,\n",
       "        -5.88492474e-03,  7.73644996e-03, -1.45281010e-04,\n",
       "         1.16763670e-02,  6.87122802e-02,  1.49203731e-02,\n",
       "         4.41771223e-02, -1.76146793e-02, -3.29254101e-03,\n",
       "         2.10534809e-02],\n",
       "       [-2.45477362e-18, -1.14823132e-02, -8.75808693e-02,\n",
       "         2.85160715e-03, -2.52419937e-02,  2.65428069e-03,\n",
       "         3.69790804e-02,  1.41503577e-02, -6.26317495e-04,\n",
       "        -2.46881007e-02, -7.62312032e-02, -7.97879199e-02,\n",
       "        -2.57585213e-01, -1.52222679e-01,  4.03893556e-02,\n",
       "         1.09339909e-02, -7.00630094e-05, -5.69317350e-02,\n",
       "        -1.78627011e-01, -3.17828335e-01, -2.46338716e-01,\n",
       "        -1.04568064e-01,  1.06664828e-02,  4.86086047e-03,\n",
       "        -1.13297812e-04, -5.10561310e-02, -1.93070764e-01,\n",
       "        -3.03409204e-01, -2.33605500e-02,  3.06424623e-02,\n",
       "        -1.43808203e-02,  3.48550087e-05,  0.00000000e+00,\n",
       "        -2.48742521e-02, -4.53378355e-02,  8.94879319e-02,\n",
       "         2.93819475e-01,  2.38753555e-01,  3.91472695e-02,\n",
       "         0.00000000e+00, -4.19420898e-04, -4.29346611e-02,\n",
       "        -1.46943457e-01,  7.70975253e-02,  9.25159149e-03,\n",
       "        -8.70693681e-02,  1.42861918e-01,  2.90709927e-03,\n",
       "        -3.03521182e-04, -5.55070684e-02, -2.53737019e-01,\n",
       "         3.82468945e-03, -2.78756971e-01, -1.52761036e-01,\n",
       "         2.70087948e-01,  2.31490791e-02, -8.78387390e-05,\n",
       "        -1.30014901e-02, -8.43190786e-02, -2.28752130e-02,\n",
       "        -9.00948195e-02,  1.85398576e-01,  1.92958112e-01,\n",
       "         4.27503951e-02],\n",
       "       [ 4.65392448e-18, -2.77959279e-03, -6.49621265e-03,\n",
       "        -2.62613834e-02, -1.15950077e-01, -1.54315191e-01,\n",
       "        -2.69980768e-02,  3.71825135e-03, -1.82707338e-04,\n",
       "        -9.51890171e-04, -3.44027384e-02,  1.07946313e-01,\n",
       "         8.86477768e-02, -9.94826680e-02, -1.65721325e-02,\n",
       "         3.76259608e-03,  1.94997940e-04,  3.78959082e-02,\n",
       "         5.30988640e-02,  7.02046862e-02,  3.55629883e-02,\n",
       "         1.89612603e-02,  3.32203031e-02,  7.22411542e-04,\n",
       "         3.85934916e-05,  4.80435028e-02, -1.25196445e-01,\n",
       "        -3.82247575e-01, -1.94573528e-01,  3.44344726e-02,\n",
       "         1.86108335e-02, -1.36110742e-05,  0.00000000e+00,\n",
       "         2.88960483e-02, -2.87253220e-01, -4.32717268e-01,\n",
       "        -8.75265910e-02, -8.44440345e-02, -3.46306386e-02,\n",
       "         0.00000000e+00,  1.18590411e-03,  2.71022527e-02,\n",
       "        -2.05562439e-01,  1.56788715e-02,  3.38705028e-01,\n",
       "        -5.39674924e-02, -1.28192285e-01, -1.91814424e-03,\n",
       "         5.26486070e-04, -7.59854517e-03, -1.10791595e-01,\n",
       "         1.45066292e-01,  3.93672338e-01,  1.06816818e-02,\n",
       "         1.30262175e-02,  3.32495592e-02,  1.27882630e-04,\n",
       "        -7.84559031e-05, -4.25786940e-02,  4.16464295e-02,\n",
       "         8.15335685e-02,  4.49757383e-02,  1.91746928e-01,\n",
       "         1.11167056e-01],\n",
       "       [-4.93474529e-18,  3.16267919e-02,  2.28087540e-01,\n",
       "         6.58809366e-02, -8.78891132e-02, -2.62409474e-01,\n",
       "        -7.43967639e-02, -3.65778402e-03, -4.08763526e-04,\n",
       "         6.55935531e-02, -5.84557225e-02, -1.10586580e-01,\n",
       "         8.39620565e-02, -3.51955236e-01, -1.16988950e-01,\n",
       "         3.53978915e-03, -2.63302141e-04, -8.96714499e-02,\n",
       "        -3.37975810e-01,  1.68272051e-03,  1.79219508e-01,\n",
       "        -2.46853744e-01, -1.55807513e-02,  7.20788319e-03,\n",
       "        -8.30205044e-05, -4.04774385e-02, -1.60407278e-01,\n",
       "        -2.77769972e-02,  4.75394924e-03,  7.06788682e-02,\n",
       "         1.36605299e-01,  1.34779829e-04, -0.00000000e+00,\n",
       "         1.29956134e-01,  8.67155535e-02, -9.19154640e-02,\n",
       "        -9.90618577e-02,  2.77967588e-01,  1.58867883e-01,\n",
       "        -0.00000000e+00,  1.94511739e-03,  1.07113215e-01,\n",
       "        -3.15493964e-02, -3.35546220e-02, -9.17171692e-02,\n",
       "         7.08887876e-02,  3.17530184e-02, -8.61109218e-04,\n",
       "        -6.72639024e-04,  3.74180447e-02, -6.36598142e-02,\n",
       "        -1.69642108e-01,  6.01805292e-02, -5.48190911e-02,\n",
       "        -1.22510900e-01, -1.35678235e-02, -2.35912429e-04,\n",
       "         2.64109074e-02,  2.52171202e-01,  4.82284209e-03,\n",
       "        -1.18168647e-01, -3.07367542e-01, -1.59898060e-01,\n",
       "        -3.00590819e-02],\n",
       "       [ 4.34713001e-18, -9.43360591e-03, -7.40727134e-02,\n",
       "        -9.32590300e-02, -1.74298952e-01, -1.63143896e-01,\n",
       "        -2.09257528e-02,  3.13719662e-03, -7.51414681e-05,\n",
       "        -6.81100267e-03, -5.28093172e-02, -5.28222388e-02,\n",
       "         1.14314370e-02, -1.24483796e-01, -5.30636283e-02,\n",
       "         3.12478840e-03,  7.19721387e-04,  8.46854980e-02,\n",
       "         1.29159329e-01,  9.76750241e-02,  1.32614646e-01,\n",
       "         7.75556568e-02,  2.29478482e-02,  1.12496753e-03,\n",
       "         4.75230958e-04,  6.17900274e-02,  2.19422852e-01,\n",
       "         1.60868098e-01,  1.21153163e-01,  2.56896325e-01,\n",
       "         1.22988227e-01,  7.80483115e-05, -0.00000000e+00,\n",
       "        -2.13925769e-02, -3.66351177e-02, -1.13470632e-01,\n",
       "        -3.36912965e-01, -1.11164955e-01,  9.40855050e-02,\n",
       "        -1.20370622e-35, -7.59647505e-04, -7.15441676e-02,\n",
       "        -1.80950354e-01,  5.16380326e-02, -1.77259324e-01,\n",
       "        -4.43340495e-01,  1.81146220e-02,  2.38230194e-03,\n",
       "        -1.06972214e-04, -2.91896560e-02, -8.92530965e-02,\n",
       "        -9.24873338e-03, -2.49004324e-01, -3.39567909e-01,\n",
       "         4.50453988e-02,  1.01915751e-02, -1.37487635e-05,\n",
       "        -1.00465913e-02, -1.00546157e-01, -1.57098832e-01,\n",
       "        -1.19765226e-01,  6.20188985e-02,  1.13694143e-01,\n",
       "         2.13436811e-02],\n",
       "       [-4.60937418e-18,  2.52596924e-02, -1.03213595e-02,\n",
       "        -2.30907410e-01,  6.09107553e-02,  2.64241109e-01,\n",
       "         1.10384318e-01,  1.44318126e-02, -9.95068466e-05,\n",
       "         1.10721328e-03, -2.48095867e-01, -1.76904879e-01,\n",
       "        -7.44266563e-02,  6.36047164e-02,  1.12743508e-01,\n",
       "         1.30143571e-02,  7.59597694e-05, -6.32116452e-02,\n",
       "        -3.50475556e-01,  3.32590976e-02, -8.33879061e-02,\n",
       "        -1.71736778e-01,  4.30477229e-02,  3.27168700e-03,\n",
       "        -1.61808102e-04, -6.22406928e-02, -1.37714223e-01,\n",
       "        -1.58530809e-02, -3.12482246e-01, -3.02491431e-01,\n",
       "         2.79154357e-02, -1.41144681e-05, -0.00000000e+00,\n",
       "        -1.25515190e-02, -5.87296236e-03, -1.23769262e-01,\n",
       "        -2.64557286e-01, -3.25233182e-01, -9.43498192e-02,\n",
       "        -0.00000000e+00,  9.85394085e-04,  5.44943388e-02,\n",
       "         4.60177350e-02, -1.20384528e-01, -4.32142002e-02,\n",
       "        -1.34698148e-01, -7.88174756e-02, -1.93210750e-03,\n",
       "         4.80113337e-04,  5.51174766e-02,  8.08625831e-02,\n",
       "        -2.16139522e-01, -9.04881365e-02, -5.23060816e-02,\n",
       "        -5.99714369e-02,  3.93310341e-04,  1.69456777e-04,\n",
       "         2.62188159e-02,  1.71429108e-02, -2.08963966e-01,\n",
       "         6.62268092e-03,  5.67768159e-02,  2.65157054e-02,\n",
       "        -4.00358612e-03],\n",
       "       [-8.75947785e-18,  5.31055268e-03,  1.48899295e-01,\n",
       "         2.26917226e-02, -2.94976027e-01, -2.61881528e-01,\n",
       "        -5.87049975e-02, -7.70919324e-06, -5.10642753e-04,\n",
       "        -5.73598911e-02,  2.18112432e-02, -1.09783242e-01,\n",
       "        -3.57487350e-01, -7.58390290e-02,  7.89222410e-02,\n",
       "         1.02733400e-02, -1.06853604e-03, -1.35179257e-01,\n",
       "        -3.04788057e-02, -3.68495523e-03, -1.86026582e-01,\n",
       "         2.50244835e-01,  1.97845404e-01,  1.11513667e-02,\n",
       "        -4.45493890e-04, -8.66190881e-02, -3.20452806e-02,\n",
       "         1.28456301e-01,  5.00915178e-02,  2.27777867e-01,\n",
       "         1.14715636e-01,  1.44413375e-04,  0.00000000e+00,\n",
       "         2.89445119e-03,  7.47521855e-02,  1.58611928e-01,\n",
       "         1.18959142e-01, -1.82803000e-01, -1.36876181e-01,\n",
       "         0.00000000e+00,  2.99178664e-04,  1.50487769e-02,\n",
       "         8.53190977e-02, -1.95826954e-01,  2.18723064e-01,\n",
       "        -5.53184211e-02, -1.98862312e-01, -1.88912738e-03,\n",
       "        -3.42410858e-04,  4.41145605e-02,  1.49826952e-01,\n",
       "        -3.04915125e-01,  8.38476532e-02,  1.89483471e-02,\n",
       "        -5.08287652e-02,  2.25996763e-02, -1.34291292e-04,\n",
       "         6.92566995e-03,  1.03203917e-01,  8.60186475e-02,\n",
       "         1.16062741e-01,  6.82045440e-02,  1.08229393e-01,\n",
       "         7.14376728e-02],\n",
       "       [ 7.34719093e-18, -3.85122628e-03, -4.87457902e-02,\n",
       "        -1.43558904e-01,  1.64461970e-02, -1.18348568e-01,\n",
       "        -1.89227837e-01, -4.05665692e-02,  2.06185036e-03,\n",
       "         1.36011820e-01,  5.02345405e-02, -2.71446398e-01,\n",
       "         2.57344998e-02,  2.97153124e-02, -1.98405091e-01,\n",
       "        -3.25564321e-02,  8.64570364e-04,  2.54008210e-01,\n",
       "         6.99724167e-02, -3.39643782e-01,  2.61123291e-01,\n",
       "         9.02602232e-02, -1.36429527e-01, -9.24464937e-03,\n",
       "         3.02435818e-04,  2.25099439e-01,  1.83565151e-01,\n",
       "        -2.62788292e-01,  1.31891337e-01, -1.76322661e-01,\n",
       "        -9.45008419e-02, -8.57870089e-05,  0.00000000e+00,\n",
       "         1.59439431e-01,  6.96371399e-02, -2.03604358e-02,\n",
       "         1.58891506e-01, -1.53847340e-01, -5.19667465e-02,\n",
       "         3.15544362e-30,  1.23529451e-03,  9.80703474e-02,\n",
       "         7.72529651e-02,  2.07936654e-02,  1.11561917e-01,\n",
       "         2.73099134e-02, -9.00525292e-02, -5.60535230e-03,\n",
       "         1.25651857e-04, -1.42905497e-02, -9.90144167e-02,\n",
       "        -3.27175120e-01, -7.46524455e-02,  1.26202975e-02,\n",
       "        -1.07766523e-01, -2.84385490e-02, -3.16543187e-05,\n",
       "        -1.07451032e-02, -5.75001416e-02, -1.62719856e-01,\n",
       "         9.41469722e-02,  2.63006024e-02, -5.45887881e-02,\n",
       "        -2.55151848e-02],\n",
       "       [-2.96002831e-18, -2.53464307e-03,  3.19710530e-02,\n",
       "        -9.15407285e-02, -1.70956226e-01,  1.56222243e-01,\n",
       "         1.57746739e-01,  1.21331569e-02, -1.35107446e-03,\n",
       "        -7.68851303e-02,  1.07770524e-02, -7.15636861e-02,\n",
       "        -3.01011921e-01, -5.74988545e-02,  1.01735688e-01,\n",
       "        -6.60137652e-03, -1.28096959e-03, -1.13605428e-01,\n",
       "         2.02649648e-01,  1.26781851e-01,  9.93169779e-02,\n",
       "        -9.46643823e-02, -1.12420260e-01, -1.45105686e-02,\n",
       "        -4.83813572e-04, -5.55170737e-02,  1.88731055e-02,\n",
       "        -3.17809024e-02,  3.12393077e-01, -4.61589049e-02,\n",
       "        -2.33993553e-01, -3.15931050e-04,  0.00000000e+00,\n",
       "         2.51901925e-02, -1.82458209e-01, -4.01773298e-01,\n",
       "         7.56175767e-02,  1.78314509e-01, -7.54595364e-02,\n",
       "         1.29246971e-26,  2.60469900e-03,  1.88019323e-01,\n",
       "         2.36571063e-01,  6.99847558e-02,  8.17500468e-02,\n",
       "         1.37849628e-01, -1.54203785e-02, -1.52650614e-03,\n",
       "         1.17405684e-03,  9.03604046e-02,  2.75144707e-01,\n",
       "        -3.18763673e-03, -1.28692414e-01, -1.95360775e-01,\n",
       "        -4.18554356e-03, -1.15385307e-02,  2.12852445e-04,\n",
       "         9.40290190e-03,  5.66818886e-02, -7.83423492e-02,\n",
       "        -1.57475460e-01, -4.05383739e-02,  1.35968331e-02,\n",
       "        -1.72681750e-02],\n",
       "       [-1.18271423e-17,  5.91846666e-02,  3.20889684e-01,\n",
       "        -1.32332075e-01, -8.70215378e-02,  1.99966475e-01,\n",
       "         7.26407797e-02, -5.43660292e-03, -7.15662556e-05,\n",
       "         1.55809121e-01,  3.63317067e-02, -1.33252141e-01,\n",
       "         1.63494023e-01,  5.68656363e-02,  1.58165681e-02,\n",
       "        -1.02188961e-02, -6.72198419e-04,  8.22842796e-02,\n",
       "        -1.38734668e-02,  8.41563313e-03,  3.66718491e-02,\n",
       "         3.22728065e-02, -1.56450885e-02, -6.05273001e-03,\n",
       "        -4.94868525e-04,  5.82576321e-03,  1.90827453e-01,\n",
       "        -2.35483326e-02, -1.50592509e-01,  2.42773076e-01,\n",
       "         4.89563101e-02, -7.65390667e-05, -0.00000000e+00,\n",
       "         2.22908502e-02,  2.03893153e-01,  7.50999520e-02,\n",
       "        -1.98394222e-03,  1.02283931e-01, -1.40674684e-02,\n",
       "        -0.00000000e+00,  1.27922765e-03,  1.18110391e-02,\n",
       "        -1.43576462e-02,  2.25529453e-01,  1.35845260e-01,\n",
       "         9.36832677e-02, -3.80020233e-02, -3.46072082e-04,\n",
       "         4.34713573e-05,  3.26279001e-02,  7.23228746e-02,\n",
       "         8.89803061e-02,  5.92499304e-02,  1.67517101e-01,\n",
       "         1.78755303e-01,  1.79397108e-02,  5.12342937e-05,\n",
       "         5.83264090e-02,  3.51559997e-01, -3.02164029e-01,\n",
       "        -2.45685670e-01,  2.60873490e-01,  2.31890784e-01,\n",
       "         4.41624092e-02],\n",
       "       [ 2.30746996e-18, -6.86165688e-03, -3.08045126e-02,\n",
       "        -1.60300333e-01, -5.12116548e-01, -1.24554248e-01,\n",
       "         1.95911057e-01,  4.51587654e-02, -1.22211271e-03,\n",
       "        -7.89493656e-02,  9.48262555e-02,  2.05697885e-01,\n",
       "         2.63552359e-01, -1.32848329e-02,  2.12525038e-01,\n",
       "         3.73875360e-02,  3.46614657e-05, -2.72874518e-02,\n",
       "         1.89099054e-01,  1.19997455e-02,  1.18150876e-01,\n",
       "         1.46829335e-02,  1.18585106e-01,  1.25087017e-02,\n",
       "         1.38458744e-04, -4.22013983e-02, -1.10645751e-01,\n",
       "        -2.31046790e-01, -1.29388236e-01, -1.49867323e-01,\n",
       "        -2.56187055e-02,  1.29392220e-04, -0.00000000e+00,\n",
       "        -1.10123791e-01, -4.39171719e-02,  1.88636218e-01,\n",
       "         1.06848216e-01, -2.40608901e-02, -1.02060980e-01,\n",
       "        -0.00000000e+00, -3.76848860e-03, -1.07323068e-01,\n",
       "        -3.04657288e-02, -9.94157571e-02, -1.91597778e-01,\n",
       "         8.26700444e-02, -7.52265243e-02, -4.35508669e-03,\n",
       "        -2.76814338e-04, -2.92676409e-02, -4.77556606e-02,\n",
       "        -1.09836004e-01, -1.45600578e-01,  1.29050692e-01,\n",
       "        -6.71862493e-02, -1.53675721e-02,  3.95128054e-05,\n",
       "         2.20767977e-03, -5.43824124e-02, -1.54157963e-01,\n",
       "        -2.38602894e-01, -9.54655695e-02, -1.13778899e-01,\n",
       "        -4.38822532e-02]])"
      ]
     },
     "execution_count": 37,
     "metadata": {},
     "output_type": "execute_result"
    }
   ],
   "source": [
    "Comp_Princ = 15\n",
    "PM5 = pca_cov.components_[0:Comp_Princ]; PM5"
   ]
  },
  {
   "cell_type": "code",
   "execution_count": 38,
   "metadata": {
    "scrolled": true
   },
   "outputs": [],
   "source": [
    "compressed = (data_5 - X5_mean).dot(np.transpose(PM5))"
   ]
  },
  {
   "cell_type": "code",
   "execution_count": 39,
   "metadata": {},
   "outputs": [
    {
     "name": "stdout",
     "output_type": "stream",
     "text": [
      "[ 11.37684937   7.2916869   -0.11282158 -26.64917616  -6.96012442\n",
      "  -8.72998133   4.70322655   4.81258409   2.6394353  -11.47477958\n",
      "   3.72283207  -3.36300714   1.90821011  -1.90478322   9.8878767 ]\n"
     ]
    }
   ],
   "source": [
    "print(compressed)"
   ]
  },
  {
   "cell_type": "code",
   "execution_count": 40,
   "metadata": {},
   "outputs": [],
   "source": [
    "recomposed = np.add(X5_mean, compressed.dot(PM5))"
   ]
  },
  {
   "cell_type": "code",
   "execution_count": 41,
   "metadata": {},
   "outputs": [],
   "source": [
    "image_recomposed = [] #Image recomposee en 8x8\n",
    "recomposed #Image recomposee en 64 x 1\n",
    "temp = []\n",
    "for i in range(1, len(recomposed)):\n",
    "    temp.append(recomposed[i])\n",
    "    if i%8 == 0:\n",
    "        image_recomposed.append(temp[:])\n",
    "        temp = []\n",
    "        \n",
    "image_recomposed = np.array(image_recomposed)"
   ]
  },
  {
   "cell_type": "code",
   "execution_count": 42,
   "metadata": {},
   "outputs": [
    {
     "data": {
      "text/plain": [
       "<Figure size 432x288 with 0 Axes>"
      ]
     },
     "metadata": {},
     "output_type": "display_data"
    },
    {
     "data": {
      "image/png": "[encoded data removed]",
      "text/plain": [
       "<Figure size 329.143x288 with 1 Axes>"
      ]
     },
     "metadata": {},
     "output_type": "display_data"
    }
   ],
   "source": [
    "plt.gray()\n",
    "plt.matshow(image_recomposed)\n",
    "plt.show()"
   ]
  },
  {
   "cell_type": "markdown",
   "metadata": {},
   "source": [
    "Nous avons compressé une image 5 et nous l'avons directement par la suite décompressé afin de le reconstruire. \n",
    "On remarque que l'image reconstruite n'est pas exactement la même image que celle d'origine, mais on peut reconnaître certains traits caractéristiques du chiffre 5. \n",
    "\n",
    "__Compression :__ C = PMT (X – m)\n",
    "\n",
    "__Decompression:__ D ≈ m + PM C\n",
    "\n",
    "avec : \n",
    "\n",
    "- C le compressé\n",
    "- PMT la transposée de la matrice PM\n",
    "- PM la matrice contenant les vecteurs propres (e1, e2, e3, ...)\n",
    "- X l'image d'origine qu'on souhaite compresser/decompresser\n",
    "- m l'image moyenne  \n",
    "- D l'image décompressée qui ressemble à l'image d'origine X"
   ]
  },
  {
   "cell_type": "markdown",
   "metadata": {},
   "source": [
    "#### 2) Calculer l’erreur de reconstruction : erreur normalisée entre l’image originale et l’image reconstruite."
   ]
  },
  {
   "cell_type": "markdown",
   "metadata": {},
   "source": [
    "__La Normalisation :__\n",
    "\n",
    "__X_normalisee = (X - X_min)/(X_max - X_min)__\n",
    "\n",
    "avec: \n",
    "\n",
    "- X_min : la plus petite valeur observée pour la feature X\n",
    "- X_max : la plus grande valeur observée pour la feature X\n",
    "- X : La valeur de la feature qu’on cherche à normaliser"
   ]
  },
  {
   "cell_type": "markdown",
   "metadata": {},
   "source": [
    "__La Standardisation :__\n",
    "\n",
    "__X_standardisee = (X - mu)/sigma__\n",
    "\n",
    "avec: \n",
    "\n",
    "- X : la valeur qu'on veut standardiser\n",
    "- mu : la moyenne des observations pour la feature X\n",
    "- sigma : L'écart-type des observations pour la feature X"
   ]
  },
  {
   "cell_type": "code",
   "execution_count": 43,
   "metadata": {},
   "outputs": [],
   "source": [
    "def distance_euclidienne(pt1, pt2):\n",
    "    '''\n",
    "    Euclidian distance between two points\n",
    "    '''\n",
    "    \n",
    "    if not isinstance(pt1, np.ndarray) and not isinstance(pt2, np.ndarray):\n",
    "        raise TypeError(\"inputs must be np.ndarray\")\n",
    "    if(len(pt1)!=len(pt2)):\n",
    "        raise ValueError(\"inputs must have the same dimension\")\n",
    "    else:\n",
    "        return np.sqrt(np.sum((pt1 - pt2)**2))"
   ]
  },
  {
   "cell_type": "code",
   "execution_count": 44,
   "metadata": {},
   "outputs": [
    {
     "name": "stdout",
     "output_type": "stream",
     "text": [
      "erreur de reconstruction: 0.23805499826846857\n"
     ]
    }
   ],
   "source": [
    "error = distance_euclidienne(data_5, recomposed)/len(data_5)\n",
    "print(\"erreur de reconstruction:\", error)"
   ]
  },
  {
   "cell_type": "markdown",
   "metadata": {},
   "source": [
    "#### 3) Etendre l’analyse précédente en faisant varier M de 1 à Dim. Tracer le graphe montrant, pour une image, la variation de l’erreur de reconstruction en fonction de M."
   ]
  },
  {
   "cell_type": "code",
   "execution_count": 45,
   "metadata": {},
   "outputs": [],
   "source": [
    "variation_erreur = []\n",
    "for i in range(Comp_Princ):\n",
    "    PM5 = pca_cov.components_[0:i];\n",
    "    compressed = (data_5 - X5_mean).dot(np.transpose(PM5))\n",
    "    recomposed = np.add(X5_mean, compressed.dot(PM5))\n",
    "    error = distance_euclidienne(data_5, recomposed)/len(data_5)\n",
    "    variation_erreur.append(error)"
   ]
  },
  {
   "cell_type": "code",
   "execution_count": 46,
   "metadata": {},
   "outputs": [
    {
     "data": {
      "image/png": "[encoded data removed]",
      "text/plain": [
       "<Figure size 432x288 with 1 Axes>"
      ]
     },
     "metadata": {},
     "output_type": "display_data"
    }
   ],
   "source": [
    "plt.ylabel(\"Taux d'erreur\")\n",
    "plt.xlabel('M premières composantes principales (M+1)')\n",
    "plt.title(\"Graphe de la variation du taux d'erreur en fonction de M\")\n",
    "plt.plot(variation_erreur);"
   ]
  },
  {
   "cell_type": "markdown",
   "metadata": {},
   "source": [
    "D'après le graphe de la variation du taux d'erreur en fonction de M, on remarque que le taux d'erreur diminue lorsque le nombre de M premières composantes principales augmente."
   ]
  }
 ],
 "metadata": {
  "kernelspec": {
   "display_name": "Python 3",
   "language": "python",
   "name": "python3"
  },
  "language_info": {
   "codemirror_mode": {
    "name": "ipython",
    "version": 3
   },
   "file_extension": ".py",
   "mimetype": "text/x-python",
   "name": "python",
   "nbconvert_exporter": "python",
   "pygments_lexer": "ipython3",
   "version": "3.8.3"
  }
 },
 "nbformat": 4,
 "nbformat_minor": 4
}
